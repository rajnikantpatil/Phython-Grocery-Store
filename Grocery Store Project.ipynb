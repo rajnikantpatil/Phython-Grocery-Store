{
 "cells": [
  {
   "cell_type": "code",
   "execution_count": 1,
   "id": "bcc7dca8",
   "metadata": {},
   "outputs": [
    {
     "name": "stdout",
     "output_type": "stream",
     "text": [
      "Essential Items Available\n",
      "================================================================================\n",
      "S.No\tItem    \tQuantity\tCost/Item\n",
      "1\tmaggi      \t100      \t10\n",
      "2\trinbar      \t50      \t15\n",
      "3\tsugar      \t200      \t50\n",
      "4\toil      \t100      \t80\n",
      "5\trice      \t300      \t45\n",
      "6\tmilk      \t250      \t70\n",
      "================================================================================\n",
      "How many maggi packet is required ?1\n",
      "How many rinbar packet is required ?1\n",
      "How many sugar packet is required ?1\n",
      "How many oil packet is required ?1\n",
      "How many rice packet is required ?1\n",
      "How many milk packet is required ?1\n",
      "Your total bill is Rs.270\n"
     ]
    }
   ],
   "source": [
    "l1=[1,'maggi',100,10]\n",
    "l2=[2,'rinbar',50,15]\n",
    "l3=[3,'sugar',200,50]\n",
    "l4=[4,'oil',100,80]\n",
    "l5=[5,'rice',300,45]\n",
    "l6=[6,'milk',250,70]\n",
    "table=[l1,l2,l3,l4,l5,l6]\n",
    "line = \"=\"*80\n",
    "header = f\"S.No\\tItem    \\tQuantity\\tCost/Item\"\n",
    "print(\"Essential Items Available\")\n",
    "print(line)\n",
    "print(header)\n",
    "for each in table:\n",
    "    print(f\"{each[0]}\\t{each[1]}      \\t{each[2]}      \\t{each[3]}\")\n",
    "print(line)\n",
    "\n",
    "bucket = []\n",
    "\n",
    "for item in table:\n",
    "    a = input(f\"How many {item[1]} packet is required ?\")\n",
    "    item_price = item[3] * int(a)\n",
    "    bucket.append(item_price)\n",
    "\n",
    "total = 0\n",
    "for x in bucket:\n",
    "    total += x\n",
    "print(f\"Your total bill is Rs.{total}\")\n",
    "\n",
    "\n"
   ]
  },
  {
   "cell_type": "code",
   "execution_count": null,
   "id": "7d4332b6",
   "metadata": {},
   "outputs": [],
   "source": []
  }
 ],
 "metadata": {
  "kernelspec": {
   "display_name": "Python 3 (ipykernel)",
   "language": "python",
   "name": "python3"
  },
  "language_info": {
   "codemirror_mode": {
    "name": "ipython",
    "version": 3
   },
   "file_extension": ".py",
   "mimetype": "text/x-python",
   "name": "python",
   "nbconvert_exporter": "python",
   "pygments_lexer": "ipython3",
   "version": "3.11.5"
  }
 },
 "nbformat": 4,
 "nbformat_minor": 5
}
