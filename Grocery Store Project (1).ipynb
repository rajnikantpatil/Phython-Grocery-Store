{
 "cells": [
  {
   "cell_type": "code",
   "execution_count": 1,
   "id": "bcc7dca8",
   "metadata": {
    "collapsed": true
   },
   "outputs": [
    {
     "name": "stdout",
     "output_type": "stream",
     "text": [
      "Essential Items Available\n",
      "================================================================================\n",
      "S.No\tItem    \tQuantity\tCost/Item\n",
      "1\tmaggi      \t100      \t10\n",
      "2\trinbar      \t50      \t15\n",
      "3\tsugar      \t200      \t50\n",
      "4\toil      \t100      \t80\n",
      "5\trice      \t300      \t45\n",
      "6\tmilk      \t250      \t70\n",
      "================================================================================\n",
      "How many maggi packet is required ?2\n",
      "How many rinbar packet is required ?2\n",
      "How many sugar packet is required ?2\n",
      "How many oil packet is required ?2\n",
      "How many rice packet is required ?2\n",
      "How many milk packet is required ?2\n",
      "Your total bill is Rs.540\n"
     ]
    }
   ],
   "source": [
    "\n",
    "\n"
   ]
  },
  {
   "cell_type": "code",
   "execution_count": 1,
   "id": "3925858c",
   "metadata": {},
   "outputs": [
    {
     "name": "stdout",
     "output_type": "stream",
     "text": [
      "Essential Items Available\n",
      "================================================================================\n",
      "S.No\tItem         \tQuantity\tCost/Item\n",
      "================================================================================\n",
      "1\tMaggi        \t100      \t10\n",
      "2\tRinbar        \t50      \t15\n",
      "3\tSugar        \t200      \t50\n",
      "4\tOil        \t100      \t80\n",
      "5\tRice        \t300      \t45\n",
      "6\tMilk        \t250      \t70\n",
      "7\tEggs        \t500      \t15\n",
      "How many Maggi packets are required? 1\n",
      "How many Rinbar packets are required? 1\n",
      "How many Sugar packets are required? 1\n",
      "How many Oil packets are required? 1\n",
      "How many Rice packets are required? 1\n",
      "How many Milk packets are required? 1\n",
      "How many Eggs packets are required? 1\n",
      "================================================================================\n",
      "Your total bill is Rs.285\n"
     ]
    }
   ],
   "source": [
    "1# Define item details in a dictionary for better readability and maintainability\n",
    "items = {\n",
    "    1: {'name': 'Maggi',        'quantity': 100, 'cost': 10},\n",
    "    2: {'name': 'Rinbar',       'quantity': 50,  'cost': 15},\n",
    "    3: {'name': 'Sugar',        'quantity': 200, 'cost': 50},\n",
    "    4: {'name': 'Oil',          'quantity': 100, 'cost': 80},\n",
    "    5: {'name': 'Rice',         'quantity': 300, 'cost': 45},\n",
    "    6: {'name': 'Milk',         'quantity': 250, 'cost': 70},\n",
    "    7: {'name': 'Eggs',         'quantity': 500, 'cost':15}\n",
    "    \n",
    "}\n",
    "\n",
    "# Function to display items in a tabular format\n",
    "def display_items():\n",
    "    print(\"Essential Items Available\")\n",
    "    print(\"=\" * 80)\n",
    "    print(f\"S.No\\tItem         \\tQuantity\\tCost/Item\")\n",
    "    print(\"=\" * 80)\n",
    "    for item_id, details in items.items():\n",
    "        print(f\"{item_id}\\t{details['name']}        \\t{details['quantity']}      \\t{details['cost']}\")\n",
    "\n",
    "# Function to calculate total bill\n",
    "def calculate_bill():\n",
    "    bucket = []\n",
    "    for item_id, details in items.items():\n",
    "        quantity = int(input(f\"How many {details['name']} packets are required? \"))\n",
    "        item_price = details['cost'] * quantity\n",
    "        bucket.append(item_price)\n",
    "    total_bill = sum(bucket)\n",
    "    return total_bill\n",
    "\n",
    "# Main function\n",
    "def main():\n",
    "    display_items()\n",
    "    total_bill = calculate_bill()\n",
    "    print(\"=\" * 80)\n",
    "    print(f\"Your total bill is Rs.{total_bill}\")\n",
    "\n",
    "if __name__ == \"__main__\":\n",
    "    main()"
   ]
  },
  {
   "cell_type": "code",
   "execution_count": null,
   "id": "537eaedf",
   "metadata": {},
   "outputs": [],
   "source": []
  },
  {
   "cell_type": "code",
   "execution_count": null,
   "id": "bf142dee",
   "metadata": {},
   "outputs": [],
   "source": []
  }
 ],
 "metadata": {
  "kernelspec": {
   "display_name": "Python 3 (ipykernel)",
   "language": "python",
   "name": "python3"
  },
  "language_info": {
   "codemirror_mode": {
    "name": "ipython",
    "version": 3
   },
   "file_extension": ".py",
   "mimetype": "text/x-python",
   "name": "python",
   "nbconvert_exporter": "python",
   "pygments_lexer": "ipython3",
   "version": "3.11.5"
  }
 },
 "nbformat": 4,
 "nbformat_minor": 5
}
